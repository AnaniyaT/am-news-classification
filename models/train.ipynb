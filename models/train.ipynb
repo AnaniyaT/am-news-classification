{
 "cells": [
  {
   "cell_type": "code",
   "execution_count": 1,
   "metadata": {},
   "outputs": [],
   "source": [
    "import os\n",
    "import sys\n",
    "from pathlib import Path\n",
    "\n",
    "os.environ[\"KMP_DUPLICATE_LIB_OK\"]=\"TRUE\"\n",
    "sys.path.append(str(Path(os.getcwd()).parent))"
   ]
  },
  {
   "cell_type": "code",
   "execution_count": 2,
   "metadata": {},
   "outputs": [],
   "source": [
    "import pickle\n",
    "import pandas as pd\n",
    "import matplotlib.pyplot as plt\n",
    "\n",
    "from sklearn.feature_extraction.text import TfidfVectorizer\n",
    "from torch import Tensor\n",
    "\n",
    "from models.classifier import AmNewsClassifier, load_dataset, SavedModel\n",
    "from preprocessing.pipeline import PreprocessingPipeline\n",
    "from tools.load_scraped import load_scraped"
   ]
  },
  {
   "cell_type": "code",
   "execution_count": 3,
   "metadata": {},
   "outputs": [],
   "source": [
    "data = pd.read_csv(\"../data/am_news_corpus.csv\")"
   ]
  },
  {
   "cell_type": "code",
   "execution_count": 4,
   "metadata": {},
   "outputs": [
    {
     "data": {
      "text/plain": [
       "title       2334\n",
       "content     2334\n",
       "category    2334\n",
       "dtype: int64"
      ]
     },
     "execution_count": 4,
     "metadata": {},
     "output_type": "execute_result"
    }
   ],
   "source": [
    "scraped_dataset = load_scraped(\"../scraped_data/bbc_news.json\")\n",
    "scraped_data = pd.DataFrame(map(lambda x: x.__dict__, scraped_dataset))\n",
    "scraped_data.count()"
   ]
  },
  {
   "cell_type": "code",
   "execution_count": 5,
   "metadata": {},
   "outputs": [
    {
     "data": {
      "text/html": [
       "<div>\n",
       "<style scoped>\n",
       "    .dataframe tbody tr th:only-of-type {\n",
       "        vertical-align: middle;\n",
       "    }\n",
       "\n",
       "    .dataframe tbody tr th {\n",
       "        vertical-align: top;\n",
       "    }\n",
       "\n",
       "    .dataframe thead th {\n",
       "        text-align: right;\n",
       "    }\n",
       "</style>\n",
       "<table border=\"1\" class=\"dataframe\">\n",
       "  <thead>\n",
       "    <tr style=\"text-align: right;\">\n",
       "      <th></th>\n",
       "      <th>title</th>\n",
       "      <th>content</th>\n",
       "      <th>category</th>\n",
       "    </tr>\n",
       "  </thead>\n",
       "  <tbody>\n",
       "    <tr>\n",
       "      <th>0</th>\n",
       "      <td>ሪያል ማድሪድ 1 ቢሊዮን ዩሮ ትርፍ በማግኘት የመጀመሪያ ክለብ ሲሆን ዩና...</td>\n",
       "      <td>የስፔኑ ሪያል ማድሪድ አንድ ቢሊዮን ዶላር ዓመታዊ ትርፍ በማጋበስ የመጀመ...</td>\n",
       "      <td>Sports</td>\n",
       "    </tr>\n",
       "    <tr>\n",
       "      <th>1</th>\n",
       "      <td>በማንቸስተር ዩናይትድ ታሪክ ደካማው ቡድን ሳይሆን አይቀርም- ሩበን አሞሪም</td>\n",
       "      <td>የማንቸስተር ዩናይትዱ አሰልጣኝ ሩበን አሞሪም ቡድናቸው በክለቡ 147 ዓመ...</td>\n",
       "      <td>Sports</td>\n",
       "    </tr>\n",
       "    <tr>\n",
       "      <th>2</th>\n",
       "      <td>አርሰናል በሜዳው ከቪላ አቻ ቢወጣም አርቴታ \"በልጆቼ ኮርቻለሁ\" አሉ</td>\n",
       "      <td>አርሰናል በሜዳው አስተን ቪላን አስተናግዶ በሁለት ጎል ልዩነት መምራት ቢ...</td>\n",
       "      <td>Sports</td>\n",
       "    </tr>\n",
       "    <tr>\n",
       "      <th>3</th>\n",
       "      <td>አርሰናል ከአስተን ቪላ - ማን ይረታል? የፕሪሚዬር ሊግ ጨዋታዎች ግምት</td>\n",
       "      <td>ኒውካስል በታሪኩ ለመጀመሪያ ጊዜ በተከታታይ 10 ጨዋታዎች ድል ሊቀናው ይ...</td>\n",
       "      <td>Sports</td>\n",
       "    </tr>\n",
       "    <tr>\n",
       "      <th>4</th>\n",
       "      <td>አርሰናል ከቶተንሀም፡ ማን ያሸንፋል? የፕሪሚዬር ሊግ ጨዋታዎች ግምት</td>\n",
       "      <td>ኖቲንግሀም ፎረስት የዘንድሮው ፕሪሚዬር ሊግ ያልተጠበቀ አስደናቂ ቡድን ሆ...</td>\n",
       "      <td>Sports</td>\n",
       "    </tr>\n",
       "  </tbody>\n",
       "</table>\n",
       "</div>"
      ],
      "text/plain": [
       "                                               title  \\\n",
       "0  ሪያል ማድሪድ 1 ቢሊዮን ዩሮ ትርፍ በማግኘት የመጀመሪያ ክለብ ሲሆን ዩና...   \n",
       "1    በማንቸስተር ዩናይትድ ታሪክ ደካማው ቡድን ሳይሆን አይቀርም- ሩበን አሞሪም   \n",
       "2        አርሰናል በሜዳው ከቪላ አቻ ቢወጣም አርቴታ \"በልጆቼ ኮርቻለሁ\" አሉ   \n",
       "3      አርሰናል ከአስተን ቪላ - ማን ይረታል? የፕሪሚዬር ሊግ ጨዋታዎች ግምት   \n",
       "4        አርሰናል ከቶተንሀም፡ ማን ያሸንፋል? የፕሪሚዬር ሊግ ጨዋታዎች ግምት   \n",
       "\n",
       "                                             content category  \n",
       "0  የስፔኑ ሪያል ማድሪድ አንድ ቢሊዮን ዶላር ዓመታዊ ትርፍ በማጋበስ የመጀመ...   Sports  \n",
       "1  የማንቸስተር ዩናይትዱ አሰልጣኝ ሩበን አሞሪም ቡድናቸው በክለቡ 147 ዓመ...   Sports  \n",
       "2  አርሰናል በሜዳው አስተን ቪላን አስተናግዶ በሁለት ጎል ልዩነት መምራት ቢ...   Sports  \n",
       "3  ኒውካስል በታሪኩ ለመጀመሪያ ጊዜ በተከታታይ 10 ጨዋታዎች ድል ሊቀናው ይ...   Sports  \n",
       "4  ኖቲንግሀም ፎረስት የዘንድሮው ፕሪሚዬር ሊግ ያልተጠበቀ አስደናቂ ቡድን ሆ...   Sports  "
      ]
     },
     "execution_count": 5,
     "metadata": {},
     "output_type": "execute_result"
    }
   ],
   "source": [
    "scraped_data.head()"
   ]
  },
  {
   "cell_type": "code",
   "execution_count": 6,
   "metadata": {},
   "outputs": [
    {
     "name": "stdout",
     "output_type": "stream",
     "text": [
      "<class 'pandas.core.frame.DataFrame'>\n",
      "RangeIndex: 2334 entries, 0 to 2333\n",
      "Data columns (total 3 columns):\n",
      " #   Column    Non-Null Count  Dtype \n",
      "---  ------    --------------  ----- \n",
      " 0   title     2334 non-null   object\n",
      " 1   content   2334 non-null   object\n",
      " 2   category  2334 non-null   object\n",
      "dtypes: object(3)\n",
      "memory usage: 54.8+ KB\n"
     ]
    },
    {
     "data": {
      "image/png": "[encoded data removed]",
      "text/plain": [
       "<Figure size 640x480 with 1 Axes>"
      ]
     },
     "metadata": {},
     "output_type": "display_data"
    }
   ],
   "source": [
    "scraped_data[\"category\"].value_counts().plot(kind='bar')\n",
    "scraped_data.info()"
   ]
  },
  {
   "cell_type": "code",
   "execution_count": 7,
   "metadata": {},
   "outputs": [],
   "source": [
    "scraped_data = scraped_data.rename(columns={\"content\": \"article\"})\n",
    "scraped_data = scraped_data.drop(columns=[\"title\"])\n",
    "\n",
    "data = pd.concat([data, scraped_data], axis=0)"
   ]
  },
  {
   "cell_type": "code",
   "execution_count": 8,
   "metadata": {},
   "outputs": [],
   "source": [
    "preprocess = PreprocessingPipeline()\n",
    "data = data.dropna()\n",
    "\n",
    "# Rename entertainment and technology as Others\n",
    "data['category'] = data['category'].replace(['Entertainment', 'Technology'], 'Others')\n",
    "\n",
    "data[\"category_num\"] = pd.factorize(data[\"category\"])[0]\n",
    "data[\"article\"] = data[\"article\"].apply(preprocess)\n",
    "\n",
    "# shuffle the df\n",
    "data = data.sample(frac=1, random_state=4).reset_index(drop=True)"
   ]
  },
  {
   "cell_type": "code",
   "execution_count": 9,
   "metadata": {},
   "outputs": [
    {
     "name": "stdout",
     "output_type": "stream",
     "text": [
      "<class 'pandas.core.frame.DataFrame'>\n",
      "RangeIndex: 64249 entries, 0 to 64248\n",
      "Data columns (total 3 columns):\n",
      " #   Column        Non-Null Count  Dtype \n",
      "---  ------        --------------  ----- \n",
      " 0   article       64249 non-null  object\n",
      " 1   category      64249 non-null  object\n",
      " 2   category_num  64249 non-null  int64 \n",
      "dtypes: int64(1), object(2)\n",
      "memory usage: 1.5+ MB\n"
     ]
    },
    {
     "data": {
      "image/png": "[encoded data removed]",
      "text/plain": [
       "<Figure size 640x480 with 1 Axes>"
      ]
     },
     "metadata": {},
     "output_type": "display_data"
    }
   ],
   "source": [
    "data[\"category\"].value_counts().plot(kind='bar')\n",
    "data.info()"
   ]
  },
  {
   "cell_type": "code",
   "execution_count": 10,
   "metadata": {},
   "outputs": [],
   "source": [
    "articles, labels = data[\"article\"], data[\"category_num\"]"
   ]
  },
  {
   "cell_type": "code",
   "execution_count": 11,
   "metadata": {},
   "outputs": [],
   "source": [
    "train_split = 0.8\n",
    "split_idx = int(articles.count() * train_split)\n",
    "\n",
    "articles_train, labels_train = articles[:split_idx], labels[:split_idx]\n",
    "articles_test, labels_test = articles[split_idx:], labels[split_idx:]"
   ]
  },
  {
   "cell_type": "code",
   "execution_count": 12,
   "metadata": {},
   "outputs": [],
   "source": [
    "# vectorizer = TfidfVectorizer(analyzer='word', max_features=512, ngram_range=(1, 3))\n",
    "# vectorizer.fit(articles_train)\n",
    "# with open(\"../models/trained/tfidfvectorizer.pkl\", \"wb\") as f:\n",
    "#     pickle.dump(vectorizer, f)\n",
    "    \n",
    "with open(\"../models/trained/tfidfvectorizer.pkl\", \"rb\") as f:\n",
    "    vectorizer: TfidfVectorizer = pickle.load(f)"
   ]
  },
  {
   "cell_type": "code",
   "execution_count": 13,
   "metadata": {},
   "outputs": [],
   "source": [
    "X_train, y_train = vectorizer.transform(articles_train).toarray(), labels_train.array\n",
    "X_test, y_test = vectorizer.transform(articles_test).toarray(), labels_test.array"
   ]
  },
  {
   "cell_type": "code",
   "execution_count": 14,
   "metadata": {},
   "outputs": [],
   "source": [
    "# prepare validation dataset from train dataset\n",
    "val_size = 1000\n",
    "X_val, y_val = X_train[:val_size], y_train[:val_size]\n",
    "X_train, y_train = X_train[val_size:], y_train[val_size:]\n",
    "\n",
    "batch_size = 32\n",
    "train_loader = load_dataset(X_train, y_train, batch_size=batch_size, shuffle=True)\n",
    "val_loader = load_dataset(X_val, y_val, batch_size=32)\n",
    "test_loader = load_dataset(X_test, y_test)"
   ]
  },
  {
   "cell_type": "code",
   "execution_count": 16,
   "metadata": {},
   "outputs": [
    {
     "name": "stdout",
     "output_type": "stream",
     "text": [
      "Test accuracy before training: 0.23369650542736053\n",
      "Train accuracy before training: 0.24220718443393707\n",
      "Epoch 1 Train Loss: 0.7566534804162525, Val Loss: 0.6235604882240295\n",
      "Epoch 2 Train Loss: 0.5791263840501271, Val Loss: 0.5871760249137878\n",
      "Epoch 3 Train Loss: 0.5525573823943971, Val Loss: 0.5815956592559814\n",
      "Epoch 4 Train Loss: 0.5314581164575758, Val Loss: 0.5655653476715088\n",
      "Epoch 5 Train Loss: 0.5094132963343272, Val Loss: 0.5555368065834045\n",
      "Epoch 6 Train Loss: 0.48627117940357756, Val Loss: 0.5152184367179871\n",
      "Epoch 7 Train Loss: 0.4631675175163481, Val Loss: 0.5193924903869629\n",
      "Epoch 8 Train Loss: 0.4414542026983367, Val Loss: 0.5111383199691772\n",
      "Epoch 9 Train Loss: 0.42119498180018533, Val Loss: 0.5045498013496399\n",
      "Epoch 10 Train Loss: 0.4023415705230501, Val Loss: 0.49156516790390015\n"
     ]
    },
    {
     "data": {
      "image/png": "[encoded data removed]",
      "text/plain": [
       "<Figure size 640x480 with 1 Axes>"
      ]
     },
     "metadata": {},
     "output_type": "display_data"
    }
   ],
   "source": [
    "classifier = AmNewsClassifier(\n",
    "    input_size=512,\n",
    "    hidden_sizes=[64, 16],\n",
    "    output_size=6\n",
    ")\n",
    "\n",
    "train_accuracy = classifier.evaluate(Tensor(X_train), Tensor(y_train))\n",
    "test_accuracy = classifier.evaluate(Tensor(X_test), Tensor(y_test))\n",
    "print(\"Test accuracy before training:\", test_accuracy)\n",
    "print(\"Train accuracy before training:\", train_accuracy)\n",
    "\n",
    "train_losses, val_losses = classifier.fit(train_loader, val_loader, epochs=10, lr=0.001, verbose=True)\n",
    "\n",
    "plt.plot(train_losses, label=\"Train loss\")\n",
    "plt.plot(val_losses, label=\"Validation loss\")\n",
    "plt.legend()\n",
    "plt.show()"
   ]
  },
  {
   "cell_type": "code",
   "execution_count": 17,
   "metadata": {},
   "outputs": [
    {
     "name": "stdout",
     "output_type": "stream",
     "text": [
      "Test accuracy: 0.8118287920951843\n",
      "Train accuracy: 0.8635091781616211\n"
     ]
    }
   ],
   "source": [
    "train_accuracy = classifier.evaluate(Tensor(X_train), Tensor(y_train))\n",
    "test_accuracy = classifier.evaluate(Tensor(X_test), Tensor(y_test))\n",
    "print(\"Test accuracy:\", test_accuracy)\n",
    "print(\"Train accuracy:\", train_accuracy)"
   ]
  },
  {
   "cell_type": "code",
   "execution_count": 23,
   "metadata": {},
   "outputs": [
    {
     "name": "stdout",
     "output_type": "stream",
     "text": [
      "Business\n"
     ]
    }
   ],
   "source": [
    "mapping = data.drop_duplicates(subset=\"category\").set_index(\"category_num\")[\"category\"].to_dict()\n",
    "\n",
    "saved_model = SavedModel(\n",
    "    classifier,\n",
    "    mapping\n",
    ")\n",
    "\n",
    "example_text = \"\"\"\n",
    "    አዋጁ የጸደቀው የሚኒስትሮች ምክር ቤት የባንክ ዘርፍን ለውጭ ኢንቨስተሮች ክፍት የሚያደርገው ፖሊሲ በስራ ላይ እንዲውል ከወሰነ ከሁለት ዓመታት በኋላ ነው።\n",
    "    የሚኒስትሮች ምክር ቤት በነሐሴ 2014 ዓ.ም ባካሄደው ስብሰባ ነበር ይህን ውሳኔ ያስተላለፈው።\n",
    "    ይህን ውሳኔ ተከትሎ ባለፈው ዓመት ሰኔ ወር ላይ ይህን የፖሊሲ ውሳኔ ወደ መሬት የሚያወርድ ረቂቅ አዋጅ ለህዝብ ተወካዮች ምክር ቤት ቀርቦ ነበር። ረቂቅ አዋጁ ከአምስት ወራት በኋላ ታኅሳስ 8፤ 2017 ዓ.ም. በፓርላማው ጸድቋል።\n",
    "    ትናንት የጸደቀው አዋጅ \"ጥንቃቄ በተዘጋጀ የሕግ እና የቁጥጥር ማዕቀፍ መሰረት የባንክ ዘርፍን ለውጭ ኢንቨስትመንት ክፍት ማድረግ የዘርፉን ተወዳዳሪነትና ውጤታማነት በማሻሻል ለዘላቂ የኢኮኖሚ ዕድገት አስተዋጽኦ ያደርጋል ተብሎ የሚታመን\" መሆኑን ያስረዳል።\n",
    "    በአዋጁ መሰረት \"ማንኛውም የውጭ ባንክ በከፊል ወይም ሙሉ በሙሉ በባለቤትነት\" የሚይዙት ተቀጥላ፣ ውጭ ባንክ ቅርንጫፍ ወይም እንደራሴ ቢሮ እንዲከፍቱ ይፈቀድላቸዋል።\n",
    "    ከዚህ በተጨማሪ የውጭ ባንኮች በኢትዮጵያ ባንኮች ውስጥ አክሲዮን ባለቤቶች መሆን ይችላሉ።\n",
    "    አዋጁ የውጭ ኢንቨስተሮች በአንድ የአገር ውስጥ ባንክ የሚይዙት የአክሲዮን ድርሻ \"ከባንኩ አጠቃላይ የተፈረመ ካፒታል ከአርባ በመቶ መብለጥ አይችልም\" የሚል ድንጋጌ አለው።\n",
    "\"\"\"\n",
    "\n",
    "print(saved_model.predict(example_text, vectorizer))"
   ]
  },
  {
   "cell_type": "code",
   "execution_count": 24,
   "metadata": {},
   "outputs": [],
   "source": [
    "with open(\"../models/trained/news_classifier_am.pkl\", \"wb\") as f:\n",
    "    pickle.dump(saved_model, f)"
   ]
  },
  {
   "cell_type": "code",
   "execution_count": null,
   "metadata": {},
   "outputs": [],
   "source": [
    "with open(\"../models/trained/news_classifier_am.pkl\", \"rb\") as f:\n",
    "    s_m: SavedModel = pickle.load(f)\n",
    "s_m.predict(example_text, vectorizer)"
   ]
  }
 ],
 "metadata": {
  "kernelspec": {
   "display_name": "base",
   "language": "python",
   "name": "python3"
  },
  "language_info": {
   "codemirror_mode": {
    "name": "ipython",
    "version": 3
   },
   "file_extension": ".py",
   "mimetype": "text/x-python",
   "name": "python",
   "nbconvert_exporter": "python",
   "pygments_lexer": "ipython3",
   "version": "3.11.7"
  }
 },
 "nbformat": 4,
 "nbformat_minor": 2
}
